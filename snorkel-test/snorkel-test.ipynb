{
 "cells": [
  {
   "cell_type": "code",
   "execution_count": 1,
   "id": "25fc6c3e",
   "metadata": {},
   "outputs": [],
   "source": [
    "# !pip install snorkel\n",
    "# !pip install pandas"
   ]
  },
  {
   "cell_type": "code",
   "execution_count": 2,
   "id": "41572220",
   "metadata": {},
   "outputs": [],
   "source": [
    "import pandas as pd\n",
    "\n",
    "train_df = pd.read_pickle(\"./train_fake_jobs.pkl\")\n",
    "test_df = pd.read_pickle(\"./test_fake_jobs.pkl\")"
   ]
  },
  {
   "cell_type": "code",
   "execution_count": 3,
   "id": "5df8f605",
   "metadata": {},
   "outputs": [],
   "source": [
    "from snorkel.labeling import labeling_function\n",
    "from snorkel.labeling import PandasLFApplier\n",
    "from snorkel.labeling import LFAnalysis"
   ]
  },
  {
   "cell_type": "code",
   "execution_count": 4,
   "id": "f0e86d7a",
   "metadata": {},
   "outputs": [],
   "source": [
    "FAKE = 1\n",
    "REAL = 0\n",
    "ABSTAIN = -1"
   ]
  },
  {
   "cell_type": "code",
   "execution_count": 5,
   "id": "42ed7e30",
   "metadata": {},
   "outputs": [],
   "source": [
    "FAKE_COMPANIES = [\n",
    "    \"Aker Solutions\",\n",
    "    \"Aptitude Staffing Solutions\",\n",
    "    \"Gary Cartwright\",\n",
    "    \"Edison International and Refined Resources\",\n",
    "    \"Le Meridien\",\n",
    "]"
   ]
  },
  {
   "cell_type": "code",
   "execution_count": 6,
   "id": "81547f07",
   "metadata": {},
   "outputs": [],
   "source": [
    "@labeling_function()\n",
    "def no_requirements(x: pd.Series):\n",
    "\n",
    "    return FAKE if x.requirements == \"\" else ABSTAIN\n",
    "\n",
    "\n",
    "@labeling_function()\n",
    "def requirements_less_than_10(x: pd.Series):\n",
    "    num_words = len(x.requirements.split(\" \"))\n",
    "    return FAKE if num_words <= 10 else ABSTAIN\n",
    "\n",
    "\n",
    "@labeling_function()\n",
    "def requirements_less_than_20(x: pd.Series):\n",
    "    num_words = len(x.requirements.split(\" \"))\n",
    "    return FAKE if num_words <= 20 else ABSTAIN\n",
    "\n",
    "\n",
    "@labeling_function()\n",
    "def no_company_profile(x: pd.Series):\n",
    "    return FAKE if x.company_profile == \"\" else ABSTAIN\n",
    "\n",
    "\n",
    "@labeling_function()\n",
    "def no_company_logo(x: pd.Series):\n",
    "    return FAKE if x.has_company_logo == 0 else ABSTAIN\n",
    "\n",
    "\n",
    "@labeling_function()\n",
    "def suspicious_company(x: pd.Series):\n",
    "    return (\n",
    "        FAKE\n",
    "        if any(\n",
    "            company.lower() in x.company_profile.lower() for company in FAKE_COMPANIES\n",
    "        )\n",
    "        else ABSTAIN\n",
    "    )\n",
    "\n",
    "\n",
    "@labeling_function()\n",
    "def has_background_check(x: pd.Series):\n",
    "    return REAL if \"background check\" in x.requirements else ABSTAIN\n",
    "\n",
    "\n",
    "@labeling_function()\n",
    "def required_experience(x: pd.Series):\n",
    "    return REAL if pd.notna(x.required_experience) else ABSTAIN\n",
    "\n",
    "\n",
    "@labeling_function()\n",
    "def required_education(x: pd.Series):\n",
    "    return REAL if pd.notna(x.required_education) else ABSTAIN"
   ]
  },
  {
   "cell_type": "code",
   "execution_count": 7,
   "id": "3ef9f47e",
   "metadata": {},
   "outputs": [
    {
     "name": "stderr",
     "output_type": "stream",
     "text": [
      "100%|██████████| 13410/13410 [00:02<00:00, 5811.07it/s]\n"
     ]
    }
   ],
   "source": [
    "lfs = [\n",
    "    no_company_profile,\n",
    "    suspicious_company,\n",
    "    no_company_logo,\n",
    "    has_background_check,\n",
    "    required_experience,\n",
    "    required_education,\n",
    "]\n",
    "\n",
    "applier = PandasLFApplier(lfs=lfs)\n",
    "L_train = applier.apply(df=train_df)"
   ]
  },
  {
   "cell_type": "code",
   "execution_count": 13,
   "id": "ecdbebf7",
   "metadata": {},
   "outputs": [],
   "source": [
    "# 이거 왜 에러 걸리지?\n",
    "# LFAnalysis(L=L_train, lfs=lfs).lf_summary(Y=train_df.fraudulent.values)"
   ]
  },
  {
   "cell_type": "code",
   "execution_count": 14,
   "id": "e36b7387",
   "metadata": {},
   "outputs": [
    {
     "data": {
      "text/html": [
       "<div>\n",
       "<style scoped>\n",
       "    .dataframe tbody tr th:only-of-type {\n",
       "        vertical-align: middle;\n",
       "    }\n",
       "\n",
       "    .dataframe tbody tr th {\n",
       "        vertical-align: top;\n",
       "    }\n",
       "\n",
       "    .dataframe thead th {\n",
       "        text-align: right;\n",
       "    }\n",
       "</style>\n",
       "<table border=\"1\" class=\"dataframe\">\n",
       "  <thead>\n",
       "    <tr style=\"text-align: right;\">\n",
       "      <th></th>\n",
       "      <th>has_company_logo</th>\n",
       "      <th>required_experience</th>\n",
       "      <th>fraudulent</th>\n",
       "    </tr>\n",
       "  </thead>\n",
       "  <tbody>\n",
       "    <tr>\n",
       "      <th>16877</th>\n",
       "      <td>0</td>\n",
       "      <td>Mid-Senior level</td>\n",
       "      <td>0</td>\n",
       "    </tr>\n",
       "    <tr>\n",
       "      <th>17068</th>\n",
       "      <td>0</td>\n",
       "      <td>Mid-Senior level</td>\n",
       "      <td>0</td>\n",
       "    </tr>\n",
       "    <tr>\n",
       "      <th>16816</th>\n",
       "      <td>0</td>\n",
       "      <td>Mid-Senior level</td>\n",
       "      <td>0</td>\n",
       "    </tr>\n",
       "    <tr>\n",
       "      <th>12186</th>\n",
       "      <td>0</td>\n",
       "      <td>Not Applicable</td>\n",
       "      <td>0</td>\n",
       "    </tr>\n",
       "    <tr>\n",
       "      <th>16808</th>\n",
       "      <td>0</td>\n",
       "      <td>Mid-Senior level</td>\n",
       "      <td>0</td>\n",
       "    </tr>\n",
       "    <tr>\n",
       "      <th>678</th>\n",
       "      <td>0</td>\n",
       "      <td>Not Applicable</td>\n",
       "      <td>0</td>\n",
       "    </tr>\n",
       "    <tr>\n",
       "      <th>3706</th>\n",
       "      <td>0</td>\n",
       "      <td>Entry level</td>\n",
       "      <td>0</td>\n",
       "    </tr>\n",
       "    <tr>\n",
       "      <th>14150</th>\n",
       "      <td>0</td>\n",
       "      <td>Entry level</td>\n",
       "      <td>0</td>\n",
       "    </tr>\n",
       "    <tr>\n",
       "      <th>2199</th>\n",
       "      <td>0</td>\n",
       "      <td>Entry level</td>\n",
       "      <td>0</td>\n",
       "    </tr>\n",
       "    <tr>\n",
       "      <th>4411</th>\n",
       "      <td>0</td>\n",
       "      <td>Entry level</td>\n",
       "      <td>0</td>\n",
       "    </tr>\n",
       "  </tbody>\n",
       "</table>\n",
       "</div>"
      ],
      "text/plain": [
       "       has_company_logo required_experience  fraudulent\n",
       "16877                 0    Mid-Senior level           0\n",
       "17068                 0    Mid-Senior level           0\n",
       "16816                 0    Mid-Senior level           0\n",
       "12186                 0      Not Applicable           0\n",
       "16808                 0    Mid-Senior level           0\n",
       "678                   0      Not Applicable           0\n",
       "3706                  0         Entry level           0\n",
       "14150                 0         Entry level           0\n",
       "2199                  0         Entry level           0\n",
       "4411                  0         Entry level           0"
      ]
     },
     "execution_count": 14,
     "metadata": {},
     "output_type": "execute_result"
    }
   ],
   "source": [
    "from snorkel.analysis import get_label_buckets\n",
    "\n",
    "buckets = get_label_buckets(L_train[:, 2], L_train[:, 4])\n",
    "\n",
    "res = train_df.iloc[buckets[(FAKE, REAL)]].sample(10, random_state=1)[\n",
    "    [\"has_company_logo\", \"required_experience\", \"fraudulent\"]\n",
    "]\n",
    "\n",
    "res"
   ]
  },
  {
   "cell_type": "code",
   "execution_count": 15,
   "id": "77549dff",
   "metadata": {},
   "outputs": [],
   "source": [
    "from snorkel.labeling.model import MajorityLabelVoter\n",
    "\n",
    "majority_model = MajorityLabelVoter()\n",
    "preds_train = majority_model.predict(L=L_train)"
   ]
  },
  {
   "cell_type": "code",
   "execution_count": 16,
   "id": "66a7a2ac",
   "metadata": {},
   "outputs": [],
   "source": [
    "from snorkel.labeling.model import LabelModel\n",
    "\n",
    "label_model = LabelModel(cardinality=2, verbose=True)\n",
    "label_model.fit(L_train=L_train, n_epochs=500, log_freq=100, seed=1)"
   ]
  },
  {
   "cell_type": "code",
   "execution_count": 17,
   "id": "03b41375",
   "metadata": {},
   "outputs": [
    {
     "name": "stderr",
     "output_type": "stream",
     "text": [
      "100%|██████████| 4470/4470 [00:00<00:00, 5838.99it/s]\n"
     ]
    }
   ],
   "source": [
    "L_test = applier.apply(df=test_df)"
   ]
  },
  {
   "cell_type": "code",
   "execution_count": 18,
   "id": "4869fd65",
   "metadata": {},
   "outputs": [],
   "source": [
    "Y_train = train_df[\"fraudulent\"]\n",
    "Y_test = test_df[\"fraudulent\"]"
   ]
  },
  {
   "cell_type": "code",
   "execution_count": 19,
   "id": "a7125a2b",
   "metadata": {},
   "outputs": [
    {
     "name": "stderr",
     "output_type": "stream",
     "text": [
      "WARNING:root:Metrics calculated over data points with non-abstain labels only\n"
     ]
    },
    {
     "name": "stdout",
     "output_type": "stream",
     "text": [
      "Majority Vote Accuracy:   80.8%\n"
     ]
    }
   ],
   "source": [
    "majority_acc = majority_model.score(\n",
    "    L=L_test,\n",
    "    Y=Y_test,\n",
    ")[\"accuracy\"]\n",
    "print(f\"{'Majority Vote Accuracy:':<25} {majority_acc * 100:.1f}%\")"
   ]
  },
  {
   "cell_type": "code",
   "execution_count": 20,
   "id": "518d565a",
   "metadata": {},
   "outputs": [
    {
     "name": "stderr",
     "output_type": "stream",
     "text": [
      "WARNING:root:Metrics calculated over data points with non-abstain labels only\n"
     ]
    },
    {
     "name": "stdout",
     "output_type": "stream",
     "text": [
      "Label Model Accuracy:     71.9%\n"
     ]
    }
   ],
   "source": [
    "label_model_acc = label_model.score(L=L_test, Y=Y_test)[\"accuracy\"]\n",
    "print(f\"{'Label Model Accuracy:':<25} {label_model_acc * 100:.1f}%\")"
   ]
  },
  {
   "cell_type": "code",
   "execution_count": null,
   "id": "0277df47",
   "metadata": {},
   "outputs": [],
   "source": []
  }
 ],
 "metadata": {
  "kernelspec": {
   "display_name": "TensorFlow 2.7 on Python 3.8 & CUDA 11.3",
   "language": "python",
   "name": "python3"
  },
  "language_info": {
   "codemirror_mode": {
    "name": "ipython",
    "version": 3
   },
   "file_extension": ".py",
   "mimetype": "text/x-python",
   "name": "python",
   "nbconvert_exporter": "python",
   "pygments_lexer": "ipython3",
   "version": "3.8.10"
  }
 },
 "nbformat": 4,
 "nbformat_minor": 5
}
