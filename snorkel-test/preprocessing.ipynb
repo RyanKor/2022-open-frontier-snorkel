{
 "cells": [
  {
   "cell_type": "code",
   "execution_count": 14,
   "id": "6df57093",
   "metadata": {},
   "outputs": [],
   "source": [
    "# !pip install texthero"
   ]
  },
  {
   "cell_type": "code",
   "execution_count": 2,
   "id": "1280571a",
   "metadata": {},
   "outputs": [],
   "source": [
    "import pandas as pd\n",
    "from texthero import remove_whitespace\n",
    "from sklearn.model_selection import train_test_split"
   ]
  },
  {
   "cell_type": "code",
   "execution_count": 3,
   "id": "82087c60",
   "metadata": {},
   "outputs": [],
   "source": [
    "df = pd.read_csv(\"fake_job_postings.csv\")"
   ]
  },
  {
   "cell_type": "code",
   "execution_count": 4,
   "id": "d39b8a44",
   "metadata": {},
   "outputs": [],
   "source": [
    "from bs4 import BeautifulSoup\n",
    "\n",
    "\n",
    "def remove_html(html_str: str):\n",
    "    if isinstance(html_str, str):\n",
    "        soup = BeautifulSoup(html_str)\n",
    "        return soup.get_text().replace(u\"\\xa0\", u\" \")\n",
    "    else:\n",
    "        return html_str\n"
   ]
  },
  {
   "cell_type": "code",
   "execution_count": 5,
   "id": "61ca3488",
   "metadata": {},
   "outputs": [],
   "source": [
    "import re\n",
    "\n",
    "\n",
    "def lower_abbreviated(text: str):\n",
    "\n",
    "    if isinstance(text, str):\n",
    "        return \" \".join(\n",
    "            [\n",
    "                word.lower() if word.isupper() or word.startswith(\"#\") else word\n",
    "                for word in re.split(\" \", text)\n",
    "            ]\n",
    "        )\n",
    "    else:\n",
    "        return text"
   ]
  },
  {
   "cell_type": "code",
   "execution_count": 6,
   "id": "c0c59559",
   "metadata": {},
   "outputs": [],
   "source": [
    "def split_on_uppercase(text: str):\n",
    "    if isinstance(text, str):\n",
    "        text_list = [s for s in re.split(\"([A-Z][^A-Z]*)\", text) if s]\n",
    "        return \" \".join(text_list)\n",
    "    else:\n",
    "        return text"
   ]
  },
  {
   "cell_type": "code",
   "execution_count": 7,
   "id": "59c97861",
   "metadata": {},
   "outputs": [
    {
     "name": "stderr",
     "output_type": "stream",
     "text": [
      "/usr/local/lib/python3.8/dist-packages/bs4/__init__.py:177: UserWarning:\n",
      "\n",
      "No parser was explicitly specified, so I'm using the best available HTML parser for this system (\"lxml\"). This usually isn't a problem, but if you run this code on another system, or in a different virtual environment, it may use a different parser and behave differently.\n",
      "\n",
      "The code that caused this warning is on line 194 of the file /usr/lib/python3.8/runpy.py. To get rid of this warning, change code that looks like this:\n",
      "\n",
      " BeautifulSoup(YOUR_MARKUP})\n",
      "\n",
      "to this:\n",
      "\n",
      " BeautifulSoup(YOUR_MARKUP, \"lxml\")\n",
      "\n",
      "\n",
      "/usr/local/lib/python3.8/dist-packages/bs4/__init__.py:216: UserWarning:\n",
      "\n",
      "\"b'.'\" looks like a filename, not markup. You should probably open this file and pass the filehandle into Beautiful Soup.\n",
      "\n"
     ]
    }
   ],
   "source": [
    "df[\"requirements\"] = (\n",
    "    df[\"requirements\"]\n",
    "    .apply(remove_html)\n",
    "    .apply(lower_abbreviated)\n",
    "    .apply(split_on_uppercase)\n",
    "    .fillna(\"\")\n",
    ")"
   ]
  },
  {
   "cell_type": "code",
   "execution_count": 8,
   "id": "26e07ae7",
   "metadata": {},
   "outputs": [],
   "source": [
    "df[\"company_profile\"] = (\n",
    "    df[\"company_profile\"]\n",
    "    .apply(remove_html)\n",
    "    .apply(lower_abbreviated)\n",
    "    .apply(split_on_uppercase)\n",
    "    .fillna(\"\")\n",
    ")\n"
   ]
  },
  {
   "cell_type": "code",
   "execution_count": 9,
   "id": "ffbf8f78",
   "metadata": {},
   "outputs": [],
   "source": [
    "df.requirements = df.requirements.pipe(remove_whitespace)\n",
    "df.company_profile = df.company_profile.pipe(remove_whitespace)"
   ]
  },
  {
   "cell_type": "code",
   "execution_count": 10,
   "id": "bbcafa5f",
   "metadata": {},
   "outputs": [],
   "source": [
    "X, y = df.drop(columns=\"fraudulent\"), df[\"fraudulent\"]"
   ]
  },
  {
   "cell_type": "code",
   "execution_count": 11,
   "id": "adc1c14a",
   "metadata": {},
   "outputs": [],
   "source": [
    "X_train, X_test, y_train, y_test = train_test_split(X, y, random_state=0)"
   ]
  },
  {
   "cell_type": "code",
   "execution_count": 12,
   "id": "99527e6c",
   "metadata": {},
   "outputs": [],
   "source": [
    "train = pd.concat([X_train, y_train], axis=1)\n",
    "test = pd.concat([X_test, y_test], axis=1)"
   ]
  },
  {
   "cell_type": "code",
   "execution_count": 13,
   "id": "10662508",
   "metadata": {},
   "outputs": [],
   "source": [
    "train.to_pickle(\"train_fake_jobs.pkl\")\n",
    "test.to_pickle(\"test_fake_jobs.pkl\")"
   ]
  },
  {
   "cell_type": "code",
   "execution_count": null,
   "id": "ea9445be",
   "metadata": {},
   "outputs": [],
   "source": []
  }
 ],
 "metadata": {
  "kernelspec": {
   "display_name": "TensorFlow 2.7 on Python 3.8 & CUDA 11.3",
   "language": "python",
   "name": "python3"
  },
  "language_info": {
   "codemirror_mode": {
    "name": "ipython",
    "version": 3
   },
   "file_extension": ".py",
   "mimetype": "text/x-python",
   "name": "python",
   "nbconvert_exporter": "python",
   "pygments_lexer": "ipython3",
   "version": "3.8.10"
  }
 },
 "nbformat": 4,
 "nbformat_minor": 5
}
